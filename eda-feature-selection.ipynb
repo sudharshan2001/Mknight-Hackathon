{
 "cells": [
  {
   "cell_type": "code",
   "execution_count": 5,
   "metadata": {
    "execution": {
     "iopub.execute_input": "2022-09-04T14:02:58.875117Z",
     "iopub.status.busy": "2022-09-04T14:02:58.874518Z",
     "iopub.status.idle": "2022-09-04T14:02:58.882914Z",
     "shell.execute_reply": "2022-09-04T14:02:58.881921Z",
     "shell.execute_reply.started": "2022-09-04T14:02:58.875069Z"
    }
   },
   "outputs": [],
   "source": [
    "from plotly.subplots import make_subplots\n",
    "import plotly.graph_objects as go\n",
    "colors = ['#494BD3', '#E28AE2', '#F1F481', '#79DB80', '#DF5F5F',\n",
    "              '#69DADE', '#C2E37D', '#E26580', '#D39F49', '#B96FE3']\n",
    "from plotly.offline import init_notebook_mode, iplot"
   ]
  },
  {
   "cell_type": "code",
   "execution_count": 6,
   "metadata": {
    "_cell_guid": "b1076dfc-b9ad-4769-8c92-a6c4dae69d19",
    "_uuid": "8f2839f25d086af736a60e9eeb907d3b93b6e0e5",
    "execution": {
     "iopub.execute_input": "2022-09-04T14:02:58.884942Z",
     "iopub.status.busy": "2022-09-04T14:02:58.884600Z",
     "iopub.status.idle": "2022-09-04T14:02:58.900731Z",
     "shell.execute_reply": "2022-09-04T14:02:58.899424Z",
     "shell.execute_reply.started": "2022-09-04T14:02:58.884913Z"
    }
   },
   "outputs": [],
   "source": [
    "import numpy as np \n",
    "import pandas as pd\n",
    "import json\n",
    "\n",
    "import folium\n",
    "import geopandas as gpd\n",
    "from shapely.geometry import Point\n",
    "from folium import Choropleth, Circle, Marker\n",
    "from folium.plugins import HeatMap, MarkerCluster\n",
    "import json\n",
    "import os\n",
    "\n",
    "import geopandas as gpd\n",
    "from geopandas import GeoDataFrame\n",
    "pd.set_option('display.max_columns', None)  \n"
   ]
  },
  {
   "cell_type": "code",
   "execution_count": 7,
   "metadata": {
    "execution": {
     "iopub.execute_input": "2022-09-04T14:02:58.904974Z",
     "iopub.status.busy": "2022-09-04T14:02:58.903689Z",
     "iopub.status.idle": "2022-09-04T14:02:59.252126Z",
     "shell.execute_reply": "2022-09-04T14:02:59.250956Z",
     "shell.execute_reply.started": "2022-09-04T14:02:58.904919Z"
    }
   },
   "outputs": [],
   "source": [
    "df = pd.read_csv(\"./hackathon/hackathon/data/train.csv\")\n",
    "df.head()"
   ]
  },
  {
   "cell_type": "code",
   "execution_count": 8,
   "metadata": {
    "execution": {
     "iopub.execute_input": "2022-09-04T14:02:59.254097Z",
     "iopub.status.busy": "2022-09-04T14:02:59.253675Z",
     "iopub.status.idle": "2022-09-04T14:02:59.411711Z",
     "shell.execute_reply": "2022-09-04T14:02:59.410770Z",
     "shell.execute_reply.started": "2022-09-04T14:02:59.254018Z"
    }
   },
   "outputs": [],
   "source": [
    "map_ = folium.Map(location=[12.93447,77.634470], tiles='cartodbpositron', zoom_start=5)\n",
    "\n",
    "for idx, row in df.head(200).iterrows():\n",
    "    Marker([row['latitude'], row['longitude']]).add_to(map_)\n",
    "\n",
    "map_"
   ]
  },
  {
   "cell_type": "code",
   "execution_count": 9,
   "metadata": {
    "execution": {
     "iopub.execute_input": "2022-09-04T14:02:59.413771Z",
     "iopub.status.busy": "2022-09-04T14:02:59.412959Z",
     "iopub.status.idle": "2022-09-04T14:03:00.334879Z",
     "shell.execute_reply": "2022-09-04T14:03:00.333489Z",
     "shell.execute_reply.started": "2022-09-04T14:02:59.413729Z"
    }
   },
   "outputs": [],
   "source": [
    "# df[['latitude', 'longitude', 'rent']].describe()\n",
    "dict_columns = pd.DataFrame([(json.loads(df.amenities.loc[i])) for i in range(len(df))])\n",
    "dict_columns"
   ]
  },
  {
   "cell_type": "code",
   "execution_count": 10,
   "metadata": {
    "execution": {
     "iopub.execute_input": "2022-09-04T14:03:00.337252Z",
     "iopub.status.busy": "2022-09-04T14:03:00.336372Z",
     "iopub.status.idle": "2022-09-04T14:03:00.359670Z",
     "shell.execute_reply": "2022-09-04T14:03:00.358285Z",
     "shell.execute_reply.started": "2022-09-04T14:03:00.337204Z"
    }
   },
   "outputs": [],
   "source": [
    "dict_columns.isna().sum()"
   ]
  },
  {
   "cell_type": "code",
   "execution_count": 11,
   "metadata": {
    "execution": {
     "iopub.execute_input": "2022-09-04T14:03:00.362518Z",
     "iopub.status.busy": "2022-09-04T14:03:00.361539Z",
     "iopub.status.idle": "2022-09-04T14:03:00.483928Z",
     "shell.execute_reply": "2022-09-04T14:03:00.482754Z",
     "shell.execute_reply.started": "2022-09-04T14:03:00.362464Z"
    }
   },
   "outputs": [],
   "source": [
    "dict_columns = dict_columns.replace({True: 1, False: 0})"
   ]
  },
  {
   "cell_type": "code",
   "execution_count": 159,
   "metadata": {
    "execution": {
     "iopub.execute_input": "2022-09-04T16:08:06.371154Z",
     "iopub.status.busy": "2022-09-04T16:08:06.370716Z",
     "iopub.status.idle": "2022-09-04T16:08:06.411404Z",
     "shell.execute_reply": "2022-09-04T16:08:06.410114Z",
     "shell.execute_reply.started": "2022-09-04T16:08:06.371119Z"
    }
   },
   "outputs": [],
   "source": [
    "test_dict"
   ]
  },
  {
   "cell_type": "code",
   "execution_count": 12,
   "metadata": {
    "execution": {
     "iopub.execute_input": "2022-09-04T14:03:00.486555Z",
     "iopub.status.busy": "2022-09-04T14:03:00.485514Z",
     "iopub.status.idle": "2022-09-04T14:03:00.501769Z",
     "shell.execute_reply": "2022-09-04T14:03:00.500346Z",
     "shell.execute_reply.started": "2022-09-04T14:03:00.486516Z"
    }
   },
   "outputs": [],
   "source": [
    "df.drop([\"amenities\"], inplace=True, axis=1)"
   ]
  },
  {
   "cell_type": "code",
   "execution_count": 13,
   "metadata": {
    "execution": {
     "iopub.execute_input": "2022-09-04T14:03:00.506890Z",
     "iopub.status.busy": "2022-09-04T14:03:00.506280Z",
     "iopub.status.idle": "2022-09-04T14:03:00.524962Z",
     "shell.execute_reply": "2022-09-04T14:03:00.523893Z",
     "shell.execute_reply.started": "2022-09-04T14:03:00.506851Z"
    }
   },
   "outputs": [],
   "source": [
    "df = pd.concat([df, dict_columns], axis=1)"
   ]
  },
  {
   "cell_type": "code",
   "execution_count": 14,
   "metadata": {
    "execution": {
     "iopub.execute_input": "2022-09-04T14:03:00.527220Z",
     "iopub.status.busy": "2022-09-04T14:03:00.526154Z",
     "iopub.status.idle": "2022-09-04T14:03:00.687953Z",
     "shell.execute_reply": "2022-09-04T14:03:00.686949Z",
     "shell.execute_reply.started": "2022-09-04T14:03:00.527184Z"
    }
   },
   "outputs": [],
   "source": [
    "df.describe()"
   ]
  },
  {
   "cell_type": "code",
   "execution_count": 15,
   "metadata": {
    "execution": {
     "iopub.execute_input": "2022-09-04T14:03:00.690673Z",
     "iopub.status.busy": "2022-09-04T14:03:00.689305Z",
     "iopub.status.idle": "2022-09-04T14:03:00.712970Z",
     "shell.execute_reply": "2022-09-04T14:03:00.711580Z",
     "shell.execute_reply.started": "2022-09-04T14:03:00.690600Z"
    }
   },
   "outputs": [],
   "source": [
    "obj_names=[\"type\",\"lease_type\",\"furnishing\",\"parking\",\"facing\",\"water_supply\",\"building_type\"]\n",
    "obt_type = df[obj_names]\n",
    "obt_type"
   ]
  },
  {
   "cell_type": "code",
   "execution_count": 16,
   "metadata": {
    "execution": {
     "iopub.execute_input": "2022-09-04T14:03:00.715315Z",
     "iopub.status.busy": "2022-09-04T14:03:00.714806Z",
     "iopub.status.idle": "2022-09-04T14:03:01.168582Z",
     "shell.execute_reply": "2022-09-04T14:03:01.167423Z",
     "shell.execute_reply.started": "2022-09-04T14:03:00.715269Z"
    }
   },
   "outputs": [],
   "source": [
    "from sklearn.preprocessing import OrdinalEncoder\n",
    "# encode1 = OrdinalEncoder(handle_unknown='use_encoded_value', unknown_value=-1)\n",
    "encode1 = OrdinalEncoder()\n",
    "encoder = encode1.fit(obt_type)\n",
    "encoded = encoder.transform(obt_type)\n",
    "encoded"
   ]
  },
  {
   "cell_type": "code",
   "execution_count": 17,
   "metadata": {
    "execution": {
     "iopub.execute_input": "2022-09-04T14:03:01.170749Z",
     "iopub.status.busy": "2022-09-04T14:03:01.170299Z",
     "iopub.status.idle": "2022-09-04T14:03:01.241416Z",
     "shell.execute_reply": "2022-09-04T14:03:01.240169Z",
     "shell.execute_reply.started": "2022-09-04T14:03:01.170712Z"
    }
   },
   "outputs": [],
   "source": [
    "df[[\"type\",\"lease_type\",\"furnishing\",\"parking\",\"facing\",\"water_supply\",\"building_type\"]] = encoded\n",
    "df"
   ]
  },
  {
   "cell_type": "code",
   "execution_count": 19,
   "metadata": {
    "execution": {
     "iopub.execute_input": "2022-09-04T14:03:05.484336Z",
     "iopub.status.busy": "2022-09-04T14:03:05.483957Z",
     "iopub.status.idle": "2022-09-04T14:03:05.611264Z",
     "shell.execute_reply": "2022-09-04T14:03:05.609969Z",
     "shell.execute_reply.started": "2022-09-04T14:03:05.484300Z"
    }
   },
   "outputs": [],
   "source": [
    "df[\"year\"] = pd.to_datetime(df['activation_date'] , format=\"%d-%m-%Y %H:%M\").dt.year\n",
    "df[\"month\"] = pd.to_datetime(df['activation_date'] , format=\"%d-%m-%Y %H:%M\").dt.month"
   ]
  },
  {
   "cell_type": "markdown",
   "metadata": {},
   "source": [
    "####  **There are some unique values in it which might be useful**\n",
    "\n",
    "#### **Let's just drop Locality column for now**"
   ]
  },
  {
   "cell_type": "code",
   "execution_count": 20,
   "metadata": {
    "execution": {
     "iopub.execute_input": "2022-09-04T14:03:05.613765Z",
     "iopub.status.busy": "2022-09-04T14:03:05.613066Z",
     "iopub.status.idle": "2022-09-04T14:03:05.640454Z",
     "shell.execute_reply": "2022-09-04T14:03:05.639296Z",
     "shell.execute_reply.started": "2022-09-04T14:03:05.613728Z"
    }
   },
   "outputs": [],
   "source": [
    "locality_var = df['locality']\n",
    "df.drop([\"locality\", \"GYM\"], axis=1, inplace=True)"
   ]
  },
  {
   "cell_type": "code",
   "execution_count": 21,
   "metadata": {
    "execution": {
     "iopub.execute_input": "2022-09-04T14:03:05.642678Z",
     "iopub.status.busy": "2022-09-04T14:03:05.642297Z",
     "iopub.status.idle": "2022-09-04T14:03:05.657067Z",
     "shell.execute_reply": "2022-09-04T14:03:05.656082Z",
     "shell.execute_reply.started": "2022-09-04T14:03:05.642639Z"
    }
   },
   "outputs": [],
   "source": [
    "df.isnull().sum()"
   ]
  },
  {
   "cell_type": "code",
   "execution_count": 22,
   "metadata": {
    "execution": {
     "iopub.execute_input": "2022-09-04T14:03:05.659509Z",
     "iopub.status.busy": "2022-09-04T14:03:05.658650Z",
     "iopub.status.idle": "2022-09-04T14:03:05.679573Z",
     "shell.execute_reply": "2022-09-04T14:03:05.678391Z",
     "shell.execute_reply.started": "2022-09-04T14:03:05.659462Z"
    }
   },
   "outputs": [],
   "source": [
    "cate_names=[\"CLUB\",\"CPA\",\"SERVANT\",\"GP\",\"RWH\",\"STP\",\"VP\"]\n",
    "cate_type = df[cate_names]\n",
    "cate_type.head()"
   ]
  },
  {
   "cell_type": "code",
   "execution_count": 23,
   "metadata": {
    "execution": {
     "iopub.execute_input": "2022-09-04T14:03:05.681525Z",
     "iopub.status.busy": "2022-09-04T14:03:05.681169Z",
     "iopub.status.idle": "2022-09-04T14:03:05.917003Z",
     "shell.execute_reply": "2022-09-04T14:03:05.915570Z",
     "shell.execute_reply.started": "2022-09-04T14:03:05.681493Z"
    }
   },
   "outputs": [],
   "source": [
    "from sklearn.impute import SimpleImputer\n",
    "imp_freq = SimpleImputer(strategy='most_frequent')\n",
    "\n",
    "imp_freq_cate = imp_freq.fit(cate_type)\n",
    "transformed_cate_type = imp_freq_cate.transform(cate_type)\n",
    "transformed_cate_type"
   ]
  },
  {
   "cell_type": "code",
   "execution_count": 24,
   "metadata": {
    "execution": {
     "iopub.execute_input": "2022-09-04T14:03:05.919127Z",
     "iopub.status.busy": "2022-09-04T14:03:05.918731Z",
     "iopub.status.idle": "2022-09-04T14:03:05.961886Z",
     "shell.execute_reply": "2022-09-04T14:03:05.960483Z",
     "shell.execute_reply.started": "2022-09-04T14:03:05.919095Z"
    }
   },
   "outputs": [],
   "source": [
    "df[cate_names] = transformed_cate_type\n",
    "df.head()"
   ]
  },
  {
   "cell_type": "markdown",
   "metadata": {},
   "source": [
    "**Let's drop activation_date for now to build a model and see how it works**"
   ]
  },
  {
   "cell_type": "code",
   "execution_count": 25,
   "metadata": {
    "execution": {
     "iopub.execute_input": "2022-09-04T14:03:05.964496Z",
     "iopub.status.busy": "2022-09-04T14:03:05.963986Z",
     "iopub.status.idle": "2022-09-04T14:03:05.990679Z",
     "shell.execute_reply": "2022-09-04T14:03:05.988947Z",
     "shell.execute_reply.started": "2022-09-04T14:03:05.964451Z"
    }
   },
   "outputs": [],
   "source": [
    "actication_date = df.activation_date\n",
    "df.drop([\"activation_date\",\"id\"],axis=1, inplace=True)\n",
    "df.drop([\"LIFT\",\"POOL\"],axis=1, inplace=True)"
   ]
  },
  {
   "cell_type": "code",
   "execution_count": 26,
   "metadata": {
    "execution": {
     "iopub.execute_input": "2022-09-04T14:03:05.993574Z",
     "iopub.status.busy": "2022-09-04T14:03:05.993069Z",
     "iopub.status.idle": "2022-09-04T14:03:06.005353Z",
     "shell.execute_reply": "2022-09-04T14:03:06.003236Z",
     "shell.execute_reply.started": "2022-09-04T14:03:05.993528Z"
    }
   },
   "outputs": [],
   "source": [
    "df[\"bathroom\"].value_counts()"
   ]
  },
  {
   "cell_type": "code",
   "execution_count": 27,
   "metadata": {
    "execution": {
     "iopub.execute_input": "2022-09-04T14:03:06.007606Z",
     "iopub.status.busy": "2022-09-04T14:03:06.007163Z",
     "iopub.status.idle": "2022-09-04T14:03:06.165360Z",
     "shell.execute_reply": "2022-09-04T14:03:06.163882Z",
     "shell.execute_reply.started": "2022-09-04T14:03:06.007558Z"
    }
   },
   "outputs": [],
   "source": [
    "df.describe()"
   ]
  },
  {
   "cell_type": "code",
   "execution_count": 28,
   "metadata": {
    "execution": {
     "iopub.execute_input": "2022-09-04T14:03:06.168164Z",
     "iopub.status.busy": "2022-09-04T14:03:06.166958Z",
     "iopub.status.idle": "2022-09-04T14:03:06.207921Z",
     "shell.execute_reply": "2022-09-04T14:03:06.206679Z",
     "shell.execute_reply.started": "2022-09-04T14:03:06.168122Z"
    }
   },
   "outputs": [],
   "source": [
    "df.head()"
   ]
  },
  {
   "cell_type": "code",
   "execution_count": 29,
   "metadata": {
    "execution": {
     "iopub.execute_input": "2022-09-04T14:03:06.210709Z",
     "iopub.status.busy": "2022-09-04T14:03:06.209437Z",
     "iopub.status.idle": "2022-09-04T14:03:06.217895Z",
     "shell.execute_reply": "2022-09-04T14:03:06.216383Z",
     "shell.execute_reply.started": "2022-09-04T14:03:06.210651Z"
    }
   },
   "outputs": [],
   "source": [
    "cat_columns = ['type', 'lease_type', 'gym', 'lift',\n",
    "       'swimming_pool', 'negotiable', 'furnishing', 'parking',\n",
    "        'bathroom', 'facing', 'floor',\n",
    "       'total_floor', 'water_supply', 'building_type', 'balconies',\n",
    "       'INTERNET', 'AC', 'CLUB', 'INTERCOM', 'CPA', 'FS', 'SERVANT',\n",
    "       'SECURITY', 'SC', 'GP', 'PARK', 'RWH', 'STP', 'HK', 'PB', 'VP', 'year',\n",
    "       'month']"
   ]
  },
  {
   "cell_type": "code",
   "execution_count": 30,
   "metadata": {
    "execution": {
     "iopub.execute_input": "2022-09-04T14:03:06.220415Z",
     "iopub.status.busy": "2022-09-04T14:03:06.219944Z",
     "iopub.status.idle": "2022-09-04T14:03:06.233661Z",
     "shell.execute_reply": "2022-09-04T14:03:06.232372Z",
     "shell.execute_reply.started": "2022-09-04T14:03:06.220291Z"
    }
   },
   "outputs": [],
   "source": [
    "def cat_summary_with_graph(dataframe, col_name):\n",
    "    fig = make_subplots(rows=1, cols=2,\n",
    "                        subplot_titles=('Countplot', 'Percentages'),\n",
    "                        specs=[[{\"type\": \"xy\"}, {'type': 'domain'}]])\n",
    "\n",
    "    fig.add_trace(go.Bar(y=dataframe[col_name].value_counts().values.tolist(),\n",
    "                         x=[str(i) for i in dataframe[col_name].value_counts().index],\n",
    "                         text=dataframe[col_name].value_counts().values.tolist(),\n",
    "                         textfont=dict(size=15),\n",
    "                         name=col_name,\n",
    "                         textposition='auto',\n",
    "                         showlegend=False,\n",
    "                         marker=dict(color=colors,\n",
    "                                     line=dict(color='#DBE6EC',\n",
    "                                               width=1))),\n",
    "                  row=1, col=1)\n",
    "\n",
    "    fig.add_trace(go.Pie(labels=dataframe[col_name].value_counts().keys(),\n",
    "                         values=dataframe[col_name].value_counts().values,\n",
    "                         textfont=dict(size=20),\n",
    "                         textposition='auto',\n",
    "                         showlegend=False,\n",
    "                         name=col_name,\n",
    "                         marker=dict(colors=colors)),\n",
    "                  row=1, col=2)\n",
    "\n",
    "    fig.update_layout(title={'text': col_name,\n",
    "                             'y': 0.9,\n",
    "                             'x': 0.5,\n",
    "                             'xanchor': 'center',\n",
    "                             'yanchor': 'top'},\n",
    "                      template='plotly_white')\n",
    "\n",
    "    iplot(fig)\n"
   ]
  },
  {
   "cell_type": "code",
   "execution_count": 31,
   "metadata": {
    "collapsed": true,
    "execution": {
     "iopub.execute_input": "2022-09-04T14:03:06.240338Z",
     "iopub.status.busy": "2022-09-04T14:03:06.239963Z",
     "iopub.status.idle": "2022-09-04T14:03:09.898295Z",
     "shell.execute_reply": "2022-09-04T14:03:09.897079Z",
     "shell.execute_reply.started": "2022-09-04T14:03:06.240305Z"
    },
    "jupyter": {
     "outputs_hidden": true
    }
   },
   "outputs": [],
   "source": [
    "for col in cat_columns:\n",
    "    cat_summary_with_graph(df,col)"
   ]
  },
  {
   "cell_type": "code",
   "execution_count": 32,
   "metadata": {
    "execution": {
     "iopub.execute_input": "2022-09-04T14:03:09.900584Z",
     "iopub.status.busy": "2022-09-04T14:03:09.900123Z",
     "iopub.status.idle": "2022-09-04T14:03:09.937278Z",
     "shell.execute_reply": "2022-09-04T14:03:09.936331Z",
     "shell.execute_reply.started": "2022-09-04T14:03:09.900541Z"
    }
   },
   "outputs": [],
   "source": [
    "df.head()"
   ]
  },
  {
   "cell_type": "code",
   "execution_count": 33,
   "metadata": {
    "execution": {
     "iopub.execute_input": "2022-09-04T14:03:09.939695Z",
     "iopub.status.busy": "2022-09-04T14:03:09.938480Z",
     "iopub.status.idle": "2022-09-04T14:03:11.825959Z",
     "shell.execute_reply": "2022-09-04T14:03:11.824657Z",
     "shell.execute_reply.started": "2022-09-04T14:03:09.939646Z"
    }
   },
   "outputs": [],
   "source": [
    "import seaborn as sns\n",
    "ax = sns.regplot(x=\"property_size\", y=\"rent\", data=df)"
   ]
  },
  {
   "cell_type": "code",
   "execution_count": 34,
   "metadata": {
    "execution": {
     "iopub.execute_input": "2022-09-04T14:03:11.827834Z",
     "iopub.status.busy": "2022-09-04T14:03:11.827452Z",
     "iopub.status.idle": "2022-09-04T14:03:13.458516Z",
     "shell.execute_reply": "2022-09-04T14:03:13.457025Z",
     "shell.execute_reply.started": "2022-09-04T14:03:11.827799Z"
    }
   },
   "outputs": [],
   "source": [
    "ax = sns.regplot(x=\"property_age\", y=\"rent\", data=df)"
   ]
  },
  {
   "cell_type": "code",
   "execution_count": 35,
   "metadata": {
    "execution": {
     "iopub.execute_input": "2022-09-04T14:03:13.461194Z",
     "iopub.status.busy": "2022-09-04T14:03:13.460363Z",
     "iopub.status.idle": "2022-09-04T14:03:21.866897Z",
     "shell.execute_reply": "2022-09-04T14:03:21.865468Z",
     "shell.execute_reply.started": "2022-09-04T14:03:13.461144Z"
    }
   },
   "outputs": [],
   "source": [
    "import matplotlib.pyplot as plt\n",
    "sns.set_style('ticks')\n",
    "fig, ax = plt.subplots()\n",
    "# the size of A4 paper\n",
    "fig.set_size_inches(40, 45)\n",
    "sns.heatmap(data=df.corr(),cmap='Blues',annot=True)"
   ]
  },
  {
   "cell_type": "code",
   "execution_count": 36,
   "metadata": {
    "execution": {
     "iopub.execute_input": "2022-09-04T14:03:21.869751Z",
     "iopub.status.busy": "2022-09-04T14:03:21.868367Z",
     "iopub.status.idle": "2022-09-04T14:03:21.878017Z",
     "shell.execute_reply": "2022-09-04T14:03:21.876984Z",
     "shell.execute_reply.started": "2022-09-04T14:03:21.869579Z"
    }
   },
   "outputs": [],
   "source": [
    "X = df.drop('rent',axis=1)\n",
    "y = df['rent']"
   ]
  },
  {
   "cell_type": "code",
   "execution_count": 37,
   "metadata": {
    "execution": {
     "iopub.execute_input": "2022-09-04T14:03:21.880347Z",
     "iopub.status.busy": "2022-09-04T14:03:21.879246Z",
     "iopub.status.idle": "2022-09-04T14:03:23.725097Z",
     "shell.execute_reply": "2022-09-04T14:03:23.723754Z",
     "shell.execute_reply.started": "2022-09-04T14:03:21.880298Z"
    }
   },
   "outputs": [],
   "source": [
    "from sklearn.linear_model import LinearRegression, BayesianRidge, HuberRegressor\n",
    "from sklearn.neural_network import BernoulliRBM\n",
    "from sklearn.svm import LinearSVR,SVR,NuSVR\n",
    "from sklearn.ensemble import RandomForestRegressor\n",
    "from sklearn.metrics import accuracy_score,confusion_matrix,classification_report,auc\n",
    "import numpy as np\n",
    "from sklearn.model_selection import train_test_split\n",
    "from lightgbm import LGBMRegressor\n",
    "import optuna\n",
    "from sklearn.metrics import mean_squared_error\n",
    "from sklearn.model_selection import GridSearchCV\n",
    "from sklearn.tree import DecisionTreeRegressor"
   ]
  },
  {
   "cell_type": "code",
   "execution_count": 38,
   "metadata": {
    "execution": {
     "iopub.execute_input": "2022-09-04T14:03:23.727894Z",
     "iopub.status.busy": "2022-09-04T14:03:23.727134Z",
     "iopub.status.idle": "2022-09-04T14:03:23.759181Z",
     "shell.execute_reply": "2022-09-04T14:03:23.757594Z",
     "shell.execute_reply.started": "2022-09-04T14:03:23.727858Z"
    }
   },
   "outputs": [],
   "source": [
    "X_train, X_val, y_train, y_val = train_test_split(X,y, test_size=0.9, random_state=0)"
   ]
  },
  {
   "cell_type": "markdown",
   "metadata": {},
   "source": [
    "### **Random Forest**"
   ]
  },
  {
   "cell_type": "code",
   "execution_count": 123,
   "metadata": {
    "execution": {
     "iopub.execute_input": "2022-09-04T15:47:30.514260Z",
     "iopub.status.busy": "2022-09-04T15:47:30.513793Z",
     "iopub.status.idle": "2022-09-04T15:47:30.523974Z",
     "shell.execute_reply": "2022-09-04T15:47:30.521927Z",
     "shell.execute_reply.started": "2022-09-04T15:47:30.514225Z"
    }
   },
   "outputs": [],
   "source": [
    "param_grid_rf = {\n",
    "               'n_estimators': [int(x) for x in np.linspace(5, 200, num = 5)],\n",
    "               'min_samples_split': [int(x) for x in np.linspace(1, 50, num =5)],\n",
    "               'min_samples_leaf': [int(x) for x in np.linspace(1, 20, num = 5)],\n",
    "                'max_features' : [\"sqrt\", None],\n",
    "                'bootstrap':[True]\n",
    "              }\n"
   ]
  },
  {
   "cell_type": "code",
   "execution_count": 41,
   "metadata": {
    "execution": {
     "iopub.execute_input": "2022-09-04T14:05:10.133597Z",
     "iopub.status.busy": "2022-09-04T14:05:10.133176Z",
     "iopub.status.idle": "2022-09-04T14:05:10.139686Z",
     "shell.execute_reply": "2022-09-04T14:05:10.138448Z",
     "shell.execute_reply.started": "2022-09-04T14:05:10.133563Z"
    }
   },
   "outputs": [],
   "source": [
    "from sklearn.ensemble import RandomForestRegressor\n",
    "from sklearn.ensemble import AdaBoostRegressor\n"
   ]
  },
  {
   "cell_type": "code",
   "execution_count": 55,
   "metadata": {
    "collapsed": true,
    "execution": {
     "iopub.execute_input": "2022-09-04T13:31:08.633785Z",
     "iopub.status.busy": "2022-09-04T13:31:08.633158Z",
     "iopub.status.idle": "2022-09-04T13:34:02.927928Z",
     "shell.execute_reply": "2022-09-04T13:34:02.926821Z",
     "shell.execute_reply.started": "2022-09-04T13:31:08.633748Z"
    },
    "jupyter": {
     "outputs_hidden": true
    }
   },
   "outputs": [],
   "source": [
    "\n",
    "rf = RandomForestRegressor()\n",
    "\n",
    "grid_search_rf = GridSearchCV(estimator = rf, param_grid = param_grid_rf, \n",
    "                          cv = 5, n_jobs = -1, verbose = 2)\n",
    "\n",
    "rf_model = grid_search_rf.fit(X_train, y_train)"
   ]
  },
  {
   "cell_type": "code",
   "execution_count": 57,
   "metadata": {
    "execution": {
     "iopub.execute_input": "2022-09-04T13:34:19.563228Z",
     "iopub.status.busy": "2022-09-04T13:34:19.562825Z",
     "iopub.status.idle": "2022-09-04T13:34:19.894710Z",
     "shell.execute_reply": "2022-09-04T13:34:19.893342Z",
     "shell.execute_reply.started": "2022-09-04T13:34:19.563194Z"
    }
   },
   "outputs": [],
   "source": [
    "mean_squared_error(y_val, rf_model.predict(X_val), squared=False)"
   ]
  },
  {
   "cell_type": "code",
   "execution_count": 40,
   "metadata": {
    "execution": {
     "iopub.execute_input": "2022-09-04T14:04:52.869463Z",
     "iopub.status.busy": "2022-09-04T14:04:52.868390Z",
     "iopub.status.idle": "2022-09-04T14:04:52.874545Z",
     "shell.execute_reply": "2022-09-04T14:04:52.873163Z",
     "shell.execute_reply.started": "2022-09-04T14:04:52.869394Z"
    }
   },
   "outputs": [],
   "source": [
    "van_rf = AdaBoostRegressor(RandomForestRegressor(n_estimators = 151, min_samples_split = 13, min_samples_leaf= 1, max_features = None, bootstrap=True) )\n",
    "van_rf.fit( X_train, y_train) \n",
    "mean_squared_error(y_val, van_rf.predict(X_val), squared=False)  #4128"
   ]
  },
  {
   "cell_type": "markdown",
   "metadata": {},
   "source": [
    "### **Decision Tree**"
   ]
  },
  {
   "cell_type": "code",
   "execution_count": 122,
   "metadata": {
    "execution": {
     "iopub.execute_input": "2022-09-04T15:47:27.341255Z",
     "iopub.status.busy": "2022-09-04T15:47:27.339986Z",
     "iopub.status.idle": "2022-09-04T15:47:27.349728Z",
     "shell.execute_reply": "2022-09-04T15:47:27.348701Z",
     "shell.execute_reply.started": "2022-09-04T15:47:27.341200Z"
    }
   },
   "outputs": [],
   "source": [
    "max_features = ['auto', 'sqrt', \"log2\"]\n",
    "\n",
    "max_depth = [int(x) for x in np.linspace(5, 400, num = 40)]\n",
    "\n",
    "min_samples_split =[int(x) for x in np.linspace(1, 50, num =10)]\n",
    "\n",
    "min_samples_leaf = [int(x) for x in np.linspace(1, 20, num = 10)]\n",
    "\n",
    "# Create the random grid\n",
    "param_grid_dt = {\n",
    "               'max_features': max_features,\n",
    "               'max_depth': max_depth,\n",
    "               'min_samples_split': min_samples_split,\n",
    "               'min_samples_leaf': min_samples_leaf\n",
    "              }\n",
    "\n"
   ]
  },
  {
   "cell_type": "code",
   "execution_count": 43,
   "metadata": {
    "execution": {
     "iopub.execute_input": "2022-09-04T14:05:22.500229Z",
     "iopub.status.busy": "2022-09-04T14:05:22.499783Z",
     "iopub.status.idle": "2022-09-04T14:05:22.506659Z",
     "shell.execute_reply": "2022-09-04T14:05:22.505051Z",
     "shell.execute_reply.started": "2022-09-04T14:05:22.500194Z"
    }
   },
   "outputs": [],
   "source": [
    "dt = DecisionTreeRegressor()\n",
    "\n",
    "grid_search_dt = GridSearchCV(estimator = dt, param_grid = param_grid_dt, \n",
    "                          cv = 5, n_jobs = -1, verbose = 2)"
   ]
  },
  {
   "cell_type": "code",
   "execution_count": 44,
   "metadata": {
    "collapsed": true,
    "execution": {
     "iopub.execute_input": "2022-09-04T14:05:24.249358Z",
     "iopub.status.busy": "2022-09-04T14:05:24.248368Z",
     "iopub.status.idle": "2022-09-04T14:09:05.036848Z",
     "shell.execute_reply": "2022-09-04T14:09:05.034991Z",
     "shell.execute_reply.started": "2022-09-04T14:05:24.249316Z"
    },
    "jupyter": {
     "outputs_hidden": true
    }
   },
   "outputs": [],
   "source": [
    "dt_model = grid_search_dt.fit(X_train, y_train)"
   ]
  },
  {
   "cell_type": "code",
   "execution_count": 45,
   "metadata": {
    "execution": {
     "iopub.execute_input": "2022-09-04T14:09:05.040447Z",
     "iopub.status.busy": "2022-09-04T14:09:05.039997Z",
     "iopub.status.idle": "2022-09-04T14:09:05.059844Z",
     "shell.execute_reply": "2022-09-04T14:09:05.058652Z",
     "shell.execute_reply.started": "2022-09-04T14:09:05.040403Z"
    }
   },
   "outputs": [],
   "source": [
    "mean_squared_error(y_val, dt_model.predict(X_val), squared=False)"
   ]
  },
  {
   "cell_type": "code",
   "execution_count": 46,
   "metadata": {
    "execution": {
     "iopub.execute_input": "2022-09-04T14:09:05.062066Z",
     "iopub.status.busy": "2022-09-04T14:09:05.061162Z",
     "iopub.status.idle": "2022-09-04T14:09:05.071710Z",
     "shell.execute_reply": "2022-09-04T14:09:05.070717Z",
     "shell.execute_reply.started": "2022-09-04T14:09:05.062028Z"
    }
   },
   "outputs": [],
   "source": [
    "best_grid_dt = grid_search_dt.best_estimator_\n",
    "best_grid_dt"
   ]
  },
  {
   "cell_type": "code",
   "execution_count": 47,
   "metadata": {
    "execution": {
     "iopub.execute_input": "2022-09-04T14:09:39.134330Z",
     "iopub.status.busy": "2022-09-04T14:09:39.133915Z",
     "iopub.status.idle": "2022-09-04T14:09:39.164864Z",
     "shell.execute_reply": "2022-09-04T14:09:39.163418Z",
     "shell.execute_reply.started": "2022-09-04T14:09:39.134298Z"
    }
   },
   "outputs": [],
   "source": [
    "van_dt = DecisionTreeRegressor(max_depth=15,\n",
    " max_features= 'auto',\n",
    " min_samples_leaf= 11,\n",
    " min_samples_split=33).fit( X_train, y_train) \n",
    "\n",
    "mean_squared_error(y_val, van_dt.predict(X_val), squared=False)"
   ]
  },
  {
   "cell_type": "code",
   "execution_count": 48,
   "metadata": {
    "execution": {
     "iopub.execute_input": "2022-09-04T14:09:42.287307Z",
     "iopub.status.busy": "2022-09-04T14:09:42.286893Z",
     "iopub.status.idle": "2022-09-04T14:09:42.923979Z",
     "shell.execute_reply": "2022-09-04T14:09:42.922746Z",
     "shell.execute_reply.started": "2022-09-04T14:09:42.287274Z"
    }
   },
   "outputs": [],
   "source": [
    "\n",
    "ada_dt = AdaBoostRegressor(DecisionTreeRegressor(\n",
    "    max_depth=15,\n",
    "    max_features= 'auto',\n",
    "    min_samples_leaf= 11,\n",
    "    min_samples_split=33\n",
    "     ))\n",
    "ada_dt.fit( X_train, y_train) "
   ]
  },
  {
   "cell_type": "code",
   "execution_count": 49,
   "metadata": {
    "execution": {
     "iopub.execute_input": "2022-09-04T14:09:43.669156Z",
     "iopub.status.busy": "2022-09-04T14:09:43.668726Z",
     "iopub.status.idle": "2022-09-04T14:09:43.874171Z",
     "shell.execute_reply": "2022-09-04T14:09:43.872758Z",
     "shell.execute_reply.started": "2022-09-04T14:09:43.669121Z"
    }
   },
   "outputs": [],
   "source": [
    "mean_squared_error(y_val, ada_dt.predict(X_val), squared=False)"
   ]
  },
  {
   "cell_type": "markdown",
   "metadata": {},
   "source": [
    "### XG boost"
   ]
  },
  {
   "cell_type": "code",
   "execution_count": 89,
   "metadata": {
    "execution": {
     "iopub.execute_input": "2022-09-04T14:30:39.455488Z",
     "iopub.status.busy": "2022-09-04T14:30:39.455021Z",
     "iopub.status.idle": "2022-09-04T14:30:39.462206Z",
     "shell.execute_reply": "2022-09-04T14:30:39.460643Z",
     "shell.execute_reply.started": "2022-09-04T14:30:39.455450Z"
    }
   },
   "outputs": [],
   "source": [
    "import xgboost as xgb"
   ]
  },
  {
   "cell_type": "code",
   "execution_count": 124,
   "metadata": {
    "execution": {
     "iopub.execute_input": "2022-09-04T15:47:35.152463Z",
     "iopub.status.busy": "2022-09-04T15:47:35.151987Z",
     "iopub.status.idle": "2022-09-04T15:47:38.896012Z",
     "shell.execute_reply": "2022-09-04T15:47:38.894504Z",
     "shell.execute_reply.started": "2022-09-04T15:47:35.152426Z"
    }
   },
   "outputs": [],
   "source": [
    "regressor=xgb.XGBRegressor(learning_rate = 0.02,\n",
    "                           n_estimators  = 733,\n",
    "                           max_depth     = 5,\n",
    "                           eval_metric='rmse')\n",
    "\n",
    "regressor.fit(X_train, y_train)"
   ]
  },
  {
   "cell_type": "code",
   "execution_count": 96,
   "metadata": {
    "execution": {
     "iopub.execute_input": "2022-09-04T14:36:21.754733Z",
     "iopub.status.busy": "2022-09-04T14:36:21.753938Z",
     "iopub.status.idle": "2022-09-04T14:36:22.225158Z",
     "shell.execute_reply": "2022-09-04T14:36:22.223665Z",
     "shell.execute_reply.started": "2022-09-04T14:36:21.754684Z"
    }
   },
   "outputs": [],
   "source": [
    "from xgboost import plot_importance\n",
    "import matplotlib.pyplot as plt\n",
    "plt.style.use('fivethirtyeight')\n",
    "plt.rcParams.update({'font.size': 16})\n",
    "\n",
    "fig, ax = plt.subplots(figsize=(12,6))\n",
    "plot_importance(regressor, max_num_features=20, ax=ax)\n",
    "plt.show();"
   ]
  },
  {
   "cell_type": "code",
   "execution_count": 127,
   "metadata": {
    "execution": {
     "iopub.execute_input": "2022-09-04T15:51:19.621282Z",
     "iopub.status.busy": "2022-09-04T15:51:19.620707Z",
     "iopub.status.idle": "2022-09-04T15:51:19.629297Z",
     "shell.execute_reply": "2022-09-04T15:51:19.627513Z",
     "shell.execute_reply.started": "2022-09-04T15:51:19.621239Z"
    }
   },
   "outputs": [],
   "source": [
    "features=['longitude', 'latitude', 'property_size', 'type', 'property_age',\n",
    "       'cup_board', 'total_floor', 'month','floor', 'lease_type', 'facing', 'furnishing', 'bathroom', 'balconies', 'parking', 'GP','building_type', 'water_supply', 'negotiable', 'lift']"
   ]
  },
  {
   "cell_type": "code",
   "execution_count": 186,
   "metadata": {
    "execution": {
     "iopub.execute_input": "2022-09-04T16:23:55.357845Z",
     "iopub.status.busy": "2022-09-04T16:23:55.357319Z",
     "iopub.status.idle": "2022-09-04T16:23:55.363868Z",
     "shell.execute_reply": "2022-09-04T16:23:55.362513Z",
     "shell.execute_reply.started": "2022-09-04T16:23:55.357804Z"
    }
   },
   "outputs": [],
   "source": [
    "y = df['rent']\n",
    "temp_x = X[features]\n",
    "New_X_train, New_X_val, New_y_train, New_y_val = train_test_split(temp_x,y, test_size=0.9, random_state=0)"
   ]
  },
  {
   "cell_type": "code",
   "execution_count": 109,
   "metadata": {
    "collapsed": true,
    "execution": {
     "iopub.execute_input": "2022-09-04T14:43:41.972341Z",
     "iopub.status.busy": "2022-09-04T14:43:41.971914Z",
     "iopub.status.idle": "2022-09-04T15:22:47.023447Z",
     "shell.execute_reply": "2022-09-04T15:22:47.022000Z",
     "shell.execute_reply.started": "2022-09-04T14:43:41.972307Z"
    },
    "jupyter": {
     "outputs_hidden": true
    }
   },
   "outputs": [],
   "source": [
    "import xgboost as xgb\n",
    "\n",
    "\n",
    "regressor=xgb.XGBRegressor(eval_metric='rmse')\n",
    "\n",
    "from sklearn.model_selection import GridSearchCV\n",
    "\n",
    "param_grid1 = {\"max_depth\":    [int(x) for x in np.linspace(5, 20, num = 4)],\n",
    "              \"n_estimators\": [int(x) for x in np.linspace(200, 800, num = 10)],\n",
    "              \"learning_rate\": [0.01, 0.02],}\n",
    "\n",
    "search = GridSearchCV(regressor, param_grid1, cv=5,verbose=2).fit(New_X_train, New_y_train)"
   ]
  },
  {
   "cell_type": "code",
   "execution_count": 145,
   "metadata": {
    "execution": {
     "iopub.execute_input": "2022-09-04T16:00:53.392035Z",
     "iopub.status.busy": "2022-09-04T16:00:53.391351Z",
     "iopub.status.idle": "2022-09-04T16:01:02.570290Z",
     "shell.execute_reply": "2022-09-04T16:01:02.569043Z",
     "shell.execute_reply.started": "2022-09-04T16:00:53.391982Z"
    }
   },
   "outputs": [],
   "source": [
    "xgb_model = xgb.XGBRegressor(learning_rate = search.best_params_[\"learning_rate\"],\n",
    "                           n_estimators  = search.best_params_[\"n_estimators\"],\n",
    "                           max_depth     = search.best_params_[\"max_depth\"],\n",
    "#                            max_leaves = search.best_params_[\"max_leaves\"],\n",
    "                           eval_metric='rmse')\n",
    "\n",
    "xgb_model.fit(New_X_train, New_y_train)"
   ]
  },
  {
   "cell_type": "code",
   "execution_count": 146,
   "metadata": {
    "execution": {
     "iopub.execute_input": "2022-09-04T16:01:02.572871Z",
     "iopub.status.busy": "2022-09-04T16:01:02.572473Z",
     "iopub.status.idle": "2022-09-04T16:01:02.696591Z",
     "shell.execute_reply": "2022-09-04T16:01:02.695526Z",
     "shell.execute_reply.started": "2022-09-04T16:01:02.572836Z"
    }
   },
   "outputs": [],
   "source": [
    "mean_squared_error(New_y_val, xgb_model.predict(New_X_val), squared=False)"
   ]
  },
  {
   "cell_type": "code",
   "execution_count": 142,
   "metadata": {
    "execution": {
     "iopub.execute_input": "2022-09-04T15:56:20.016783Z",
     "iopub.status.busy": "2022-09-04T15:56:20.016085Z",
     "iopub.status.idle": "2022-09-04T16:00:02.352926Z",
     "shell.execute_reply": "2022-09-04T16:00:02.351701Z",
     "shell.execute_reply.started": "2022-09-04T15:56:20.016732Z"
    }
   },
   "outputs": [],
   "source": [
    "regressor=AdaBoostRegressor(xgb.XGBRegressor(learning_rate = 0.02,\n",
    "                           n_estimators  = 733,\n",
    "                           max_depth     = 5,\n",
    "                           eval_metric='rmse'))\n",
    "\n",
    "regressor.fit(New_X_train, New_y_train)"
   ]
  },
  {
   "cell_type": "code",
   "execution_count": 184,
   "metadata": {
    "execution": {
     "iopub.execute_input": "2022-09-04T16:21:14.966729Z",
     "iopub.status.busy": "2022-09-04T16:21:14.966128Z",
     "iopub.status.idle": "2022-09-04T16:21:15.103796Z",
     "shell.execute_reply": "2022-09-04T16:21:15.102186Z",
     "shell.execute_reply.started": "2022-09-04T16:21:14.966684Z"
    }
   },
   "outputs": [],
   "source": [
    "mean_squared_error(New_y_val, xgb_model.predict(New_X_val), squared=False)"
   ]
  },
  {
   "cell_type": "markdown",
   "metadata": {},
   "source": [
    "# Submission"
   ]
  },
  {
   "cell_type": "code",
   "execution_count": 185,
   "metadata": {
    "execution": {
     "iopub.execute_input": "2022-09-04T16:22:27.673885Z",
     "iopub.status.busy": "2022-09-04T16:22:27.673289Z",
     "iopub.status.idle": "2022-09-04T16:22:27.680273Z",
     "shell.execute_reply": "2022-09-04T16:22:27.679082Z",
     "shell.execute_reply.started": "2022-09-04T16:22:27.673844Z"
    }
   },
   "outputs": [],
   "source": [
    "test=pd.read_csv(\"./hackathon/hackathon/data/test.csv\")\n",
    "test_dict=pd.DataFrame([(json.loads(test.amenities.loc[i])) for i in range(len(test))])\n",
    "\n",
    "test_dict =  test_dict.replace({True: 1, False: 0})\n",
    "test.drop([\"amenities\"], inplace=True, axis=1)\n",
    "test = pd.concat([test, test_dict], axis=1)\n",
    "\n",
    "test_obj_type = test[obj_names]\n",
    "\n",
    "encoded_test = encoder.transform(test_obj_type)\n",
    "test[[\"type\",\"lease_type\",\"furnishing\",\"parking\",\"facing\",\"water_supply\",\"building_type\"]] = encoded_test\n",
    "\n",
    "\n",
    "test[\"year\"] = pd.to_datetime(test['activation_date'] , format=\"%d-%m-%Y %H:%M\").dt.year\n",
    "test[\"month\"] = pd.to_datetime(test['activation_date'] , format=\"%d-%m-%Y %H:%M\").dt.month\n",
    "\n",
    "test.drop([\"locality\", \"GYM\"], axis=1, inplace=True)\n",
    "\n",
    "cate_test_type=test[cate_names]\n",
    "\n",
    "transformed_test_cate_type =  imp_freq_cate.transform(cate_test_type)\n",
    "test[cate_names] = transformed_test_cate_type\n",
    "\n",
    "test.drop([\"activation_date\",\"id\"],axis=1, inplace=True)\n",
    "test.drop([\"LIFT\",\"POOL\"],axis=1, inplace=True)"
   ]
  },
  {
   "cell_type": "code",
   "execution_count": 155,
   "metadata": {
    "execution": {
     "iopub.execute_input": "2022-09-04T16:05:23.688684Z",
     "iopub.status.busy": "2022-09-04T16:05:23.687366Z",
     "iopub.status.idle": "2022-09-04T16:05:25.020700Z",
     "shell.execute_reply": "2022-09-04T16:05:25.019061Z",
     "shell.execute_reply.started": "2022-09-04T16:05:23.688607Z"
    }
   },
   "outputs": [],
   "source": [
    "import pickle\n",
    "pickle.dump(regressor, open('model.sav', 'wb'))"
   ]
  },
  {
   "cell_type": "code",
   "execution_count": 172,
   "metadata": {
    "execution": {
     "iopub.execute_input": "2022-09-04T16:16:59.213913Z",
     "iopub.status.busy": "2022-09-04T16:16:59.213362Z",
     "iopub.status.idle": "2022-09-04T16:17:00.919253Z",
     "shell.execute_reply": "2022-09-04T16:17:00.917914Z",
     "shell.execute_reply.started": "2022-09-04T16:16:59.213869Z"
    }
   },
   "outputs": [],
   "source": [
    "pred = regressor.predict(test[features])\n",
    "pred"
   ]
  },
  {
   "cell_type": "code",
   "execution_count": 183,
   "metadata": {
    "execution": {
     "iopub.execute_input": "2022-09-04T16:20:42.762329Z",
     "iopub.status.busy": "2022-09-04T16:20:42.761694Z",
     "iopub.status.idle": "2022-09-04T16:20:42.782900Z",
     "shell.execute_reply": "2022-09-04T16:20:42.781798Z",
     "shell.execute_reply.started": "2022-09-04T16:20:42.762273Z"
    }
   },
   "outputs": [],
   "source": [
    "pd.DataFrame({\"rent\":pred}).to_csv(\"submission_final.csv\",index=False)"
   ]
  }
 ],
 "metadata": {
  "kernelspec": {
   "display_name": "Python 3",
   "language": "python",
   "name": "python3"
  },
  "language_info": {
   "codemirror_mode": {
    "name": "ipython",
    "version": 3
   },
   "file_extension": ".py",
   "mimetype": "text/x-python",
   "name": "python",
   "nbconvert_exporter": "python",
   "pygments_lexer": "ipython3",
   "version": "3.8.10"
  }
 },
 "nbformat": 4,
 "nbformat_minor": 4
}
